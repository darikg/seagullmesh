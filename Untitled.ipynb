{
 "cells": [
  {
   "cell_type": "code",
   "execution_count": 1,
   "id": "51b05121-693e-4f56-b92f-fc973a9f980d",
   "metadata": {},
   "outputs": [],
   "source": [
    "%load_ext autoreload\n",
    "%autoreload 2"
   ]
  },
  {
   "cell_type": "code",
   "execution_count": 39,
   "id": "02fdffca-7963-4147-91fd-ce5c101d52a9",
   "metadata": {},
   "outputs": [],
   "source": [
    "from seagullmesh import Mesh3, _seagullmesh as sgm\n",
    "from pathlib import Path\n",
    "import numpy as np"
   ]
  },
  {
   "cell_type": "code",
   "execution_count": 3,
   "id": "4db70b14-865b-4161-bc0a-b9133a42760c",
   "metadata": {},
   "outputs": [
    {
     "data": {
      "text/plain": [
       "np.float64(1.379090233882141)"
      ]
     },
     "execution_count": 3,
     "metadata": {},
     "output_type": "execute_result"
    }
   ],
   "source": [
    "file = Path() / 'test' / 'assets' / 'armadillo.off'\n",
    "assert file.exists()\n",
    "mesh0 = Mesh3.from_file(str(file))\n",
    "edge_len = mesh0.to_pyvista().extract_all_edges().compute_cell_sizes().cell_data['Length'].mean()\n",
    "edge_len"
   ]
  },
  {
   "cell_type": "code",
   "execution_count": 7,
   "id": "33b54ebf-36d9-4b29-ba90-8661204c5fc4",
   "metadata": {},
   "outputs": [
    {
     "data": {
      "application/vnd.jupyter.widget-view+json": {
       "model_id": "d0951b9ae6f6435787b0d31306d3b8e0",
       "version_major": 2,
       "version_minor": 0
      },
      "text/plain": [
       "Widget(value='<iframe src=\"http://localhost:56757/index.html?ui=P_0x1ecbd86f890_1&reconnect=auto\" class=\"pyvis…"
      ]
     },
     "metadata": {},
     "output_type": "display_data"
    }
   ],
   "source": [
    "mesh0.to_pyvista().plot(show_edges=True)"
   ]
  },
  {
   "cell_type": "code",
   "execution_count": 29,
   "id": "d3fb2818-5a13-4fc0-a75d-1c52c7fb8fe4",
   "metadata": {},
   "outputs": [
    {
     "data": {
      "text/plain": [
       "<seagullmesh._seagullmesh.properties.VertPoint3PropertyMap at 0x1eca68d74d0>"
      ]
     },
     "execution_count": 29,
     "metadata": {},
     "output_type": "execute_result"
    }
   ],
   "source": [
    "mesh0._mesh.points"
   ]
  },
  {
   "cell_type": "code",
   "execution_count": 46,
   "id": "11c31197-dcfa-49b5-be5f-cb70b7bdea54",
   "metadata": {},
   "outputs": [
    {
     "data": {
      "text/plain": [
       "(array([6.1660e+03, 3.9222e+04, 4.6737e+04, 2.5909e+04, 8.5470e+03,\n",
       "        1.5060e+03, 1.7400e+02, 5.1000e+01, 1.6000e+01, 6.0000e+00]),\n",
       " array([0.28448932, 0.5691883 , 0.85388728, 1.13858626, 1.42328524,\n",
       "        1.70798422, 1.9926832 , 2.27738218, 2.56208116, 2.84678014,\n",
       "        3.13147912]),\n",
       " <BarContainer object of 10 artists>)"
      ]
     },
     "execution_count": 46,
     "metadata": {},
     "output_type": "execute_result"
    },
    {
     "data": {
      "image/png": "[encoded data removed]",
      "text/plain": [
       "<Figure size 640x480 with 1 Axes>"
      ]
     },
     "metadata": {},
     "output_type": "display_data"
    }
   ],
   "source": [
    "import matplotlib.pyplot as plt\n",
    "plt.hist(mesh0.edge_lengths())\n",
    "plt.hist(mesh1.edge_lengths())"
   ]
  },
  {
   "cell_type": "code",
   "execution_count": null,
   "id": "ba375aa0-74ac-441a-9bd0-11b44d777ffd",
   "metadata": {},
   "outputs": [],
   "source": []
  },
  {
   "cell_type": "code",
   "execution_count": 18,
   "id": "1b8f0e87-c1e8-4f65-a8f4-41702b443eb0",
   "metadata": {},
   "outputs": [
    {
     "data": {
      "application/vnd.jupyter.widget-view+json": {
       "model_id": "d3a0cf8ecb7e4ccaa2203e1cab89d5b2",
       "version_major": 2,
       "version_minor": 0
      },
      "text/plain": [
       "Widget(value='<iframe src=\"http://localhost:56757/index.html?ui=P_0x1ecbdb62c10_10&reconnect=auto\" class=\"pyvi…"
      ]
     },
     "metadata": {},
     "output_type": "display_data"
    }
   ],
   "source": [
    "mesh1 = Mesh3.from_file(str(file))\n",
    "mesh1.remesh_adaptive(\n",
    "    edge_len_min_max=(edge_len/20, edge_len*20),\n",
    "    tolerance=0.05,\n",
    "    n_iter=10,\n",
    "    ball_radius=edge_len / 2,\n",
    ")\n",
    "\n",
    "mesh1.to_pyvista().plot(show_edges=True)"
   ]
  }
 ],
 "metadata": {
  "kernelspec": {
   "display_name": "Python 3 (ipykernel)",
   "language": "python",
   "name": "python3"
  },
  "language_info": {
   "codemirror_mode": {
    "name": "ipython",
    "version": 3
   },
   "file_extension": ".py",
   "mimetype": "text/x-python",
   "name": "python",
   "nbconvert_exporter": "python",
   "pygments_lexer": "ipython3",
   "version": "3.13.0"
  }
 },
 "nbformat": 4,
 "nbformat_minor": 5
}
