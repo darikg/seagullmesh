{
 "cells": [
  {
   "cell_type": "code",
   "execution_count": 1,
   "id": "51b05121-693e-4f56-b92f-fc973a9f980d",
   "metadata": {},
   "outputs": [],
   "source": [
    "%load_ext autoreload\n",
    "%autoreload 2"
   ]
  },
  {
   "cell_type": "code",
   "execution_count": 2,
   "id": "02fdffca-7963-4147-91fd-ce5c101d52a9",
   "metadata": {},
   "outputs": [],
   "source": [
    "from seagullmesh import Mesh3, _seagullmesh as sgm\n",
    "from pathlib import Path"
   ]
  },
  {
   "cell_type": "code",
   "execution_count": 4,
   "id": "4db70b14-865b-4161-bc0a-b9133a42760c",
   "metadata": {},
   "outputs": [
    {
     "ename": "RuntimeError",
     "evalue": "CGAL ERROR: assertion violation!\nExpr: _idx < data_.size()\nFile: C:\\Users\\dg\\.conda\\envs\\seagull2\\Library\\include\\CGAL/Surface_mesh/Properties.h\nLine: 194",
     "output_type": "error",
     "traceback": [
      "\u001b[1;31m---------------------------------------------------------------------------\u001b[0m",
      "\u001b[1;31mRuntimeError\u001b[0m                              Traceback (most recent call last)",
      "Cell \u001b[1;32mIn[4], line 9\u001b[0m\n\u001b[0;32m      6\u001b[0m edge_len \u001b[38;5;241m=\u001b[39m mesh0\u001b[38;5;241m.\u001b[39mto_pyvista()\u001b[38;5;241m.\u001b[39mextract_all_edges()\u001b[38;5;241m.\u001b[39mcompute_cell_sizes()\u001b[38;5;241m.\u001b[39mcell_data[\u001b[38;5;124m'\u001b[39m\u001b[38;5;124mLength\u001b[39m\u001b[38;5;124m'\u001b[39m]\u001b[38;5;241m.\u001b[39mmean()\n\u001b[0;32m      7\u001b[0m edge_len\n\u001b[1;32m----> 9\u001b[0m \u001b[43mmesh1\u001b[49m\u001b[38;5;241;43m.\u001b[39;49m\u001b[43mremesh\u001b[49m\u001b[43m(\u001b[49m\n\u001b[0;32m     10\u001b[0m \u001b[43m    \u001b[49m\u001b[38;5;66;43;03m# sizing=mesh1.adaptive_sizing_field(\u001b[39;49;00m\n\u001b[0;32m     11\u001b[0m \u001b[43m    \u001b[49m\u001b[38;5;66;43;03m#     tolerance=0.1,\u001b[39;49;00m\n\u001b[0;32m     12\u001b[0m \u001b[43m    \u001b[49m\u001b[38;5;66;43;03m#     edge_len_min_max=(edge_len, edge_len * 10),\u001b[39;49;00m\n\u001b[0;32m     13\u001b[0m \u001b[43m    \u001b[49m\u001b[38;5;66;43;03m# ),\u001b[39;49;00m\n\u001b[0;32m     14\u001b[0m \u001b[43m    \u001b[49m\u001b[43msizing\u001b[49m\u001b[38;5;241;43m=\u001b[39;49m\u001b[43medge_len\u001b[49m\u001b[43m,\u001b[49m\n\u001b[0;32m     15\u001b[0m \u001b[43m    \u001b[49m\u001b[43mn_iter\u001b[49m\u001b[38;5;241;43m=\u001b[39;49m\u001b[38;5;241;43m1\u001b[39;49m\u001b[43m,\u001b[49m\n\u001b[0;32m     16\u001b[0m \u001b[43m    \u001b[49m\u001b[43mtouched_map\u001b[49m\u001b[38;5;241;43m=\u001b[39;49m\u001b[38;5;124;43m'\u001b[39;49m\u001b[38;5;124;43mfoo\u001b[39;49m\u001b[38;5;124;43m'\u001b[39;49m\u001b[43m,\u001b[49m\n\u001b[0;32m     17\u001b[0m \u001b[43m)\u001b[49m\n",
      "File \u001b[1;32m~\\Documents\\python\\seagullmesh2\\seagullmesh\\__init__.py:224\u001b[0m, in \u001b[0;36mMesh3.remesh\u001b[1;34m(self, sizing, n_iter, protect_constraints, vertex_constrained, edge_constrained, touched_map, faces)\u001b[0m\n\u001b[0;32m    221\u001b[0m     sizing \u001b[38;5;241m=\u001b[39m UniformSizingField(sizing, \u001b[38;5;28mself\u001b[39m\u001b[38;5;241m.\u001b[39m_mesh)\n\u001b[0;32m    223\u001b[0m \u001b[38;5;28;01mwith\u001b[39;00m vert_edge_constraint_maps(\u001b[38;5;28mself\u001b[39m, vcm\u001b[38;5;241m=\u001b[39mvertex_constrained, ecm\u001b[38;5;241m=\u001b[39medge_constrained) \u001b[38;5;28;01mas\u001b[39;00m (vcm, ecm):\n\u001b[1;32m--> 224\u001b[0m     \u001b[43msgm\u001b[49m\u001b[38;5;241;43m.\u001b[39;49m\u001b[43mmeshing\u001b[49m\u001b[38;5;241;43m.\u001b[39;49m\u001b[43mremesh\u001b[49m\u001b[43m(\u001b[49m\n\u001b[0;32m    225\u001b[0m \u001b[43m        \u001b[49m\u001b[38;5;28;43mself\u001b[39;49m\u001b[38;5;241;43m.\u001b[39;49m\u001b[43m_mesh\u001b[49m\u001b[43m,\u001b[49m\u001b[43m \u001b[49m\u001b[43mfaces\u001b[49m\u001b[43m,\u001b[49m\u001b[43m \u001b[49m\u001b[43msizing\u001b[49m\u001b[43m,\u001b[49m\u001b[43m \u001b[49m\u001b[43mn_iter\u001b[49m\u001b[43m,\u001b[49m\u001b[43m \u001b[49m\u001b[43mprotect_constraints\u001b[49m\u001b[43m,\u001b[49m\u001b[43m \u001b[49m\u001b[43mvcm\u001b[49m\u001b[38;5;241;43m.\u001b[39;49m\u001b[43mpmap\u001b[49m\u001b[43m,\u001b[49m\u001b[43m \u001b[49m\u001b[43mecm\u001b[49m\u001b[38;5;241;43m.\u001b[39;49m\u001b[43mpmap\u001b[49m\u001b[43m,\u001b[49m\u001b[43m \u001b[49m\u001b[43mvpm\u001b[49m\u001b[43m)\u001b[49m\n",
      "\u001b[1;31mRuntimeError\u001b[0m: CGAL ERROR: assertion violation!\nExpr: _idx < data_.size()\nFile: C:\\Users\\dg\\.conda\\envs\\seagull2\\Library\\include\\CGAL/Surface_mesh/Properties.h\nLine: 194"
     ]
    }
   ],
   "source": [
    "file = Path() / 'test' / 'assets' / 'armadillo.off'\n",
    "assert file.exists()\n",
    "mesh0 = Mesh3.from_file(str(file))\n",
    "mesh1 = Mesh3.from_file(str(file))\n",
    "\n",
    "edge_len = mesh0.to_pyvista().extract_all_edges().compute_cell_sizes().cell_data['Length'].mean()\n",
    "edge_len\n",
    "\n",
    "mesh1.remesh(\n",
    "    # sizing=mesh1.adaptive_sizing_field(\n",
    "    #     tolerance=0.1,\n",
    "    #     edge_len_min_max=(edge_len, edge_len * 10),\n",
    "    # ),\n",
    "    sizing=edge_len,\n",
    "    n_iter=1,\n",
    "    touched_map='foo',\n",
    ")"
   ]
  }
 ],
 "metadata": {
  "kernelspec": {
   "display_name": "Python 3 (ipykernel)",
   "language": "python",
   "name": "python3"
  },
  "language_info": {
   "codemirror_mode": {
    "name": "ipython",
    "version": 3
   },
   "file_extension": ".py",
   "mimetype": "text/x-python",
   "name": "python",
   "nbconvert_exporter": "python",
   "pygments_lexer": "ipython3",
   "version": "3.13.0"
  }
 },
 "nbformat": 4,
 "nbformat_minor": 5
}
